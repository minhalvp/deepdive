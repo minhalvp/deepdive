{
 "cells": [
  {
   "cell_type": "markdown",
   "metadata": {},
   "source": [
    "The problem with the code is caused by batched addition"
   ]
  },
  {
   "cell_type": "code",
   "execution_count": 2,
   "metadata": {},
   "outputs": [],
   "source": [
    "import numpy as np\n",
    "from tensor import Tensor\n",
    "from nn import Linear\n",
    "from tqdm import trange\n",
    "from datasets import load_dataset\n",
    "\n",
    "mnist = load_dataset('mnist')\n",
    "\n",
    "def convert_to_np(example):\n",
    "    example['np_image'] = np.array(example['image'])\n",
    "    return example\n",
    "mnist = mnist.map(convert_to_np)\n",
    "# this next line is terribly slow for some reason\n",
    "X_train, Y_train, X_test, Y_test = np.array(mnist['train']['np_image']), np.array(mnist['train']['label']), np.array(mnist['test']['np_image']), np.array(mnist['test']['label'])\n",
    "  \n",
    "def layer_init(m, h):\n",
    "  w = np.random.uniform(-1., 1., size=(m,h))/np.sqrt(m*h)\n",
    "  return w.astype(np.float32)\n",
    "\n",
    "def bias_init(h):\n",
    "  return np.zeros((h,), dtype=np.float32)\n",
    "\n",
    "lr = 0.01\n",
    "BS = 64\n",
    "\n",
    "l1 = Linear(28*28, 128)\n",
    "l2 = Linear(128, 10)"
   ]
  },
  {
   "cell_type": "code",
   "execution_count": null,
   "metadata": {},
   "outputs": [
    {
     "name": "stderr",
     "output_type": "stream",
     "text": [
      "loss [0.00696136] accuracy 0.984375: 100%|██████████| 1000/1000 [00:05<00:00, 179.36it/s]\n"
     ]
    }
   ],
   "source": [
    "losses, accuracies = [], []\n",
    "for i in (t := trange(1000)):\n",
    "  samp = np.random.randint(0, X_train.shape[0], size=(BS))  \n",
    "  x = Tensor(X_train[samp].reshape((-1, 28*28)))\n",
    "  Y = Y_train[samp]\n",
    "  y = np.zeros((len(samp),10), np.float32)\n",
    "  y[range(y.shape[0]),Y] = -1.0\n",
    "  y = Tensor(y)\n",
    "  x = l1(x)\n",
    "  x = x.relu()\n",
    "  x = x_l2 = l2(x)\n",
    "  x = x.logsoftmax()\n",
    "  x = x.mul(y)\n",
    "  x = x.mean()\n",
    "  x.backward()\n",
    "  \n",
    "  loss = x.data\n",
    "\n",
    "  cat = np.argmax(x_l2.data, axis=1)\n",
    "  accuracy = (cat == Y).mean()\n",
    "  \n",
    "  # SGD\n",
    "  l1.step(lr)\n",
    "  l2.step(lr)\n",
    "  accuracies.append(accuracy)\n",
    "  t.set_description(f\"loss {loss} accuracy {accuracy}\")"
   ]
  },
  {
   "cell_type": "code",
   "execution_count": null,
   "metadata": {},
   "outputs": [],
   "source": [
    "# Use the test set to evaluate the model\n"
   ]
  },
  {
   "cell_type": "code",
   "execution_count": 1,
   "metadata": {},
   "outputs": [
    {
     "name": "stdout",
     "output_type": "stream",
     "text": [
      "Sequential(<class 'nn.Linear'>, <class 'nn.ReLU'>, <class 'nn.Linear'>, <class 'nn.LogSoftmax'>)\n"
     ]
    }
   ],
   "source": [
    "import nn\n",
    "import tensor as t\n",
    "import numpy as np\n",
    "\n",
    "model = nn.Sequential(\n",
    "    nn.Linear(784, 128),\n",
    "    nn.ReLU(),\n",
    "    nn.Linear(128, 10),\n",
    "    nn.LogSoftmax()\n",
    ")\n"
   ]
  },
  {
   "cell_type": "code",
   "execution_count": null,
   "metadata": {},
   "outputs": [
    {
     "ename": "TypeError",
     "evalue": "Dot.forward() missing 1 required positional argument: 'weight'",
     "output_type": "error",
     "traceback": [
      "\u001b[0;31m---------------------------------------------------------------------------\u001b[0m",
      "\u001b[0;31mTypeError\u001b[0m                                 Traceback (most recent call last)",
      "Cell \u001b[0;32mIn[30], line 6\u001b[0m\n\u001b[1;32m      4\u001b[0m b \u001b[39m=\u001b[39m Tensor(np\u001b[39m.\u001b[39mrandom\u001b[39m.\u001b[39mrandn(\u001b[39m4\u001b[39m,\u001b[39m5\u001b[39m))\n\u001b[1;32m      5\u001b[0m c \u001b[39m=\u001b[39m Dot(a,b)\n\u001b[0;32m----> 6\u001b[0m c\u001b[39m.\u001b[39;49mforward(a,b)\n",
      "\u001b[0;31mTypeError\u001b[0m: Dot.forward() missing 1 required positional argument: 'weight'"
     ]
    }
   ],
   "source": [
    "from tensor import Tensor, Dot\n",
    "import numpy as np\n",
    "a = Tensor(np.random.randn(3,4))\n",
    "b = Tensor(np.random.randn(4,5))\n"
   ]
  },
  {
   "cell_type": "code",
   "execution_count": null,
   "metadata": {},
   "outputs": [],
   "source": [
    "# numpy forward pass\n",
    "def forward(x):\n",
    "  x = l1(x)\n",
    "  x.data = np.maximum(x.data, 0)\n",
    "  x = l2(x)\n",
    "  return x.data\n",
    "\n",
    "\n",
    "def numpy_eval():\n",
    "  Y_test_preds_out = forward(X_test.reshape((-1, 28*28)))\n",
    "  Y_test_preds = np.argmax(Y_test_preds_out, axis=1)\n",
    "  return (Y_test == Y_test_preds).mean()\n",
    "\n",
    "print(f\"test set accuracy is {numpy_eval()}\")\n"
   ]
  }
 ],
 "metadata": {
  "kernelspec": {
   "display_name": "Python 3",
   "language": "python",
   "name": "python3"
  },
  "language_info": {
   "codemirror_mode": {
    "name": "ipython",
    "version": 3
   },
   "file_extension": ".py",
   "mimetype": "text/x-python",
   "name": "python",
   "nbconvert_exporter": "python",
   "pygments_lexer": "ipython3",
   "version": "3.10.12"
  },
  "orig_nbformat": 4
 },
 "nbformat": 4,
 "nbformat_minor": 2
}
