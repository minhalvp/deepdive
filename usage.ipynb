{
 "cells": [
  {
   "cell_type": "code",
   "execution_count": 1,
   "metadata": {},
   "outputs": [],
   "source": [
    "import numpy as np\n",
    "import cupy as cp\n",
    "from tensor import Tensor\n",
    "import nn\n",
    "from tqdm import trange\n",
    "from datasets import load_dataset\n",
    "\n",
    "mnist = load_dataset('mnist')\n",
    "\n",
    "def convert_to_np(example):\n",
    "    example['np_image'] = np.asarray(example['image'])\n",
    "    return example\n",
    "mnist = mnist.map(convert_to_np)\n",
    "\n",
    "# Convert X_train, Y_train, X_test, and Y_test to CuPy arrays\n",
    "X_train, Y_train = np.asarray(mnist['train']['np_image']), np.asarray(mnist['train']['label'])\n",
    "X_test, Y_test = np.asarray(mnist['test']['np_image']), np.asarray(mnist['test']['label'])\n",
    "\n",
    "lr = 0.01\n",
    "BS = 64\n",
    "\n",
    "model = nn.Sequential(\n",
    "    nn.Linear(784, 128),\n",
    "    nn.ReLU(),\n",
    "    nn.Linear(128, 10),\n",
    "    nn.LogSoftmax()\n",
    ")\n",
    "model = model.to(\"cuda\")"
   ]
  },
  {
   "cell_type": "code",
   "execution_count": 7,
   "metadata": {},
   "outputs": [
    {
     "name": "stderr",
     "output_type": "stream",
     "text": [
      "loss [0.0053428] accuracy 1.0: 100%|██████████| 1000/1000 [00:02<00:00, 464.42it/s]     \n"
     ]
    }
   ],
   "source": [
    "losses, accuracies = [], []\n",
    "for i in (t := trange(1000)):\n",
    "  samp = np.random.randint(0, X_train.shape[0], size=(BS))  \n",
    "  x = Tensor(X_train[samp].reshape((-1, 28*28))).to('cuda')\n",
    "  Y = Y_train[samp]\n",
    "  y = np.zeros((len(samp),10), np.float32)\n",
    "  y[range(y.shape[0]),Y] = -1.0\n",
    "  y = Tensor(y).to('cuda')\n",
    "  output = model.forward(x)\n",
    "  x = output.mul(y)\n",
    "  x = x.mean()\n",
    "  x.backward()\n",
    "  \n",
    "  loss = x.data\n",
    "  cat = np.argmax(output.data, axis=1).get()\n",
    "  accuracy = (cat == Y).mean()\n",
    "  losses.append(loss)\n",
    "  accuracies.append(accuracy)\n",
    "  t.set_description(f\"loss {loss} accuracy {accuracy}\")\n",
    "  # SGD\n",
    "  model.step(lr=lr)\n"
   ]
  },
  {
   "cell_type": "code",
   "execution_count": null,
   "metadata": {},
   "outputs": [],
   "source": [
    "for i in range(len(X_test)):\n",
    "    input = Tensor(np.array(X_test[i]).reshape((-1, 28*28))).to('cuda')\n",
    "    output = model.forward(input)\n",
    "    cat = np.argmax(output.data, axis=1)\n",
    "    accuracy = (cat == Y_test[i]).mean()\n",
    "    accuracies.append(accuracy)"
   ]
  },
  {
   "cell_type": "code",
   "execution_count": null,
   "metadata": {},
   "outputs": [],
   "source": [
    "import cupy as cp\n",
    "\n",
    "accuracies = cp.array(accuracies)\n",
    "print(f\"Accuracy: {accuracies.mean()}\")"
   ]
  },
  {
   "cell_type": "markdown",
   "metadata": {},
   "source": [
    "WIP:\n",
    " - nn.Sequential"
   ]
  },
  {
   "cell_type": "code",
   "execution_count": null,
   "metadata": {},
   "outputs": [],
   "source": [
    "model.layers[0].params['LinearW'].data"
   ]
  },
  {
   "cell_type": "code",
   "execution_count": null,
   "metadata": {},
   "outputs": [],
   "source": [
    "# Use the test set to evaluate the model\n",
    "def forward(x):\n",
    "  x = l1(x)\n",
    "  x.data = np.maximum(x.data, 0)\n",
    "  x = l2(x)\n",
    "  return x.data\n",
    "\n",
    "\n",
    "def numpy_eval():\n",
    "  x = Tensor(X_test.reshape((-1, 28*28)))\n",
    "  print(x.data.shape)\n",
    "  Y_test_preds_out = forward(x)\n",
    "  Y_test_preds = np.argmax(Y_test_preds_out, axis=1)\n",
    "  return (Y_test == Y_test_preds).mean()\n",
    "\n",
    "print(f\"test set accuracy is {numpy_eval()}\")\n"
   ]
  },
  {
   "cell_type": "code",
   "execution_count": null,
   "metadata": {},
   "outputs": [],
   "source": [
    "from datasets import load_dataset\n",
    "import numpy as np\n",
    "\n",
    "mnist = load_dataset('mnist')\n",
    "\n",
    "def convert_to_np(example):\n",
    "    example['np_image'] = np.array(example['image']).reshape((-1, 28*28))\n",
    "    label = np.zeros((10), np.float32)\n",
    "    label[example['label']] = -1.0\n",
    "    example['np_label'] = label\n",
    "    return example\n",
    "mnist = mnist.map(convert_to_np)"
   ]
  },
  {
   "cell_type": "code",
   "execution_count": null,
   "metadata": {},
   "outputs": [],
   "source": [
    "import nn\n",
    "from tensor import Tensor\n",
    "import numpy as np\n",
    "\n",
    "model = nn.Sequential(\n",
    "    nn.Linear(784, 128),\n",
    "    nn.ReLU(),\n",
    "    nn.Linear(128, 10),\n",
    "    nn.LogSoftmax()\n",
    ")"
   ]
  },
  {
   "cell_type": "code",
   "execution_count": null,
   "metadata": {},
   "outputs": [],
   "source": [
    "x = np.random.randn(64, 784)\n",
    "x = Tensor(x)"
   ]
  },
  {
   "cell_type": "code",
   "execution_count": null,
   "metadata": {},
   "outputs": [],
   "source": [
    "y = model.forward(x)\n",
    "model.step(1)\n",
    "model.layers[0].params['LinearW'].data"
   ]
  },
  {
   "cell_type": "code",
   "execution_count": null,
   "metadata": {},
   "outputs": [],
   "source": [
    "from tensor import Tensor, Dot\n",
    "import numpy as np\n",
    "a = Tensor(np.array([[1,2,3],[4,5,6]]))\n",
    "b = Tensor(np.array([[6,5,4], [3,2,1]]))\n",
    "\n",
    "c = a.mse(b)\n",
    "c = c.mean()\n",
    "c.backward()\n",
    "print(a.grad)"
   ]
  },
  {
   "cell_type": "code",
   "execution_count": null,
   "metadata": {},
   "outputs": [],
   "source": [
    "import torch\n",
    "\n",
    "a = torch.tensor([[1,2,3],[4,5,6]], dtype=torch.float32, requires_grad=True)\n",
    "b = torch.tensor([[6,5,4], [3,2,1]], dtype=torch.float32)\n",
    "\n",
    "c = torch.nn.functional.mse_loss(a, b, reduction=\"mean\")\n",
    "print(c)\n",
    "c.backward()\n",
    "\n",
    "print(a.grad)"
   ]
  },
  {
   "cell_type": "code",
   "execution_count": null,
   "metadata": {},
   "outputs": [],
   "source": [
    "import numpy as np\n",
    "from GPUtensor import Tensor\n",
    "a = np.random.randn(1000).astype(np.float32)\n",
    "b = np.random.randn(1000).astype(np.float32)\n",
    "ta = Tensor(a)\n",
    "tb = Tensor(b)\n",
    "tc = ta.mul(tb)\n",
    "tc"
   ]
  },
  {
   "cell_type": "code",
   "execution_count": null,
   "metadata": {},
   "outputs": [],
   "source": [
    "from GPUtensor import Tensor\n",
    "import cupy as np\n",
    "a = np.random.randn(100,100).astype(np.float32)\n",
    "a = Tensor(a, device=\"cuda\")\n",
    "b = a.mul(a)\n"
   ]
  }
 ],
 "metadata": {
  "kernelspec": {
   "display_name": "Python 3",
   "language": "python",
   "name": "python3"
  },
  "language_info": {
   "codemirror_mode": {
    "name": "ipython",
    "version": 3
   },
   "file_extension": ".py",
   "mimetype": "text/x-python",
   "name": "python",
   "nbconvert_exporter": "python",
   "pygments_lexer": "ipython3",
   "version": "3.10.12"
  },
  "orig_nbformat": 4
 },
 "nbformat": 4,
 "nbformat_minor": 2
}
