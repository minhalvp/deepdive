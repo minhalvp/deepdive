{
 "cells": [
  {
   "cell_type": "code",
   "execution_count": null,
   "metadata": {},
   "outputs": [],
   "source": [
    "import numpy as np\n",
    "from tensor import Tensor\n",
    "from nn import Linear\n",
    "from tqdm import trange\n",
    "from datasets import load_dataset\n",
    "\n",
    "mnist = load_dataset('mnist')\n",
    "\n",
    "def convert_to_np(example):\n",
    "    example['np_image'] = np.array(example['image'])\n",
    "    return example\n",
    "mnist = mnist.map(convert_to_np)\n",
    "# this next line is terribly slow for some reason\n",
    "X_train, Y_train, X_test, Y_test = np.array(mnist['train']['np_image']), np.array(mnist['train']['label']), np.array(mnist['test']['np_image']), np.array(mnist['test']['label'])\n",
    "  \n",
    "def layer_init(m, h):\n",
    "  w = np.random.uniform(-1., 1., size=(m,h))/np.sqrt(m*h)\n",
    "  return w.astype(np.float32)\n",
    "\n",
    "def bias_init(h):\n",
    "  return np.zeros((h,), dtype=np.float32)\n",
    "\n",
    "lr = 0.01\n",
    "BS = 64\n",
    "\n",
    "l1 = Linear(28*28, 128)\n",
    "l2 = Linear(128, 10)"
   ]
  },
  {
   "cell_type": "code",
   "execution_count": null,
   "metadata": {},
   "outputs": [],
   "source": [
    "losses, accuracies = [], []\n",
    "for i in (t := trange(1000)):\n",
    "  samp = np.random.randint(0, X_train.shape[0], size=(BS))  \n",
    "  x = Tensor(X_train[samp].reshape((-1, 28*28)))\n",
    "  Y = Y_train[samp]\n",
    "  y = np.zeros((len(samp),10), np.float32)\n",
    "  y[range(y.shape[0]),Y] = -1.0\n",
    "  y = Tensor(y)\n",
    "  x = l1(x)\n",
    "  x = x.relu()\n",
    "  x = x_l2 = l2(x)\n",
    "  x = x.logsoftmax()\n",
    "  x = x.mul(y)\n",
    "  x = x.mean()\n",
    "  x.backward()\n",
    "  \n",
    "  loss = x.data\n",
    "\n",
    "  cat = np.argmax(x_l2.data, axis=1)\n",
    "  accuracy = (cat == Y).mean()\n",
    "  \n",
    "  # SGD\n",
    "  l1.step(lr)\n",
    "  l2.step(lr)\n",
    "  accuracies.append(accuracy)\n",
    "  t.set_description(f\"loss {loss} accuracy {accuracy}\")"
   ]
  },
  {
   "cell_type": "markdown",
   "metadata": {},
   "source": [
    "WIP:\n",
    " - nn.Sequential"
   ]
  },
  {
   "cell_type": "code",
   "execution_count": null,
   "metadata": {},
   "outputs": [],
   "source": [
    "# Use the test set to evaluate the model\n",
    "def forward(x):\n",
    "  x = l1(x)\n",
    "  x.data = np.maximum(x.data, 0)\n",
    "  x = l2(x)\n",
    "  return x.data\n",
    "\n",
    "\n",
    "def numpy_eval():\n",
    "  x = Tensor(X_test.reshape((-1, 28*28)))\n",
    "  print(x.data.shape)\n",
    "  Y_test_preds_out = forward(x)\n",
    "  Y_test_preds = np.argmax(Y_test_preds_out, axis=1)\n",
    "  return (Y_test == Y_test_preds).mean()\n",
    "\n",
    "print(f\"test set accuracy is {numpy_eval()}\")\n"
   ]
  },
  {
   "cell_type": "code",
   "execution_count": null,
   "metadata": {},
   "outputs": [],
   "source": [
    "import nn\n",
    "import tensor as t\n",
    "import numpy as np\n",
    "\n",
    "model = nn.Sequential(\n",
    "    nn.Linear(784, 128),\n",
    "    nn.ReLU(),\n",
    "    nn.Linear(128, 10),\n",
    "    nn.LogSoftmax()\n",
    ")\n"
   ]
  },
  {
   "cell_type": "code",
   "execution_count": null,
   "metadata": {},
   "outputs": [],
   "source": [
    "from tensor import Tensor, Dot\n",
    "import numpy as np\n",
    "a = Tensor(np.random.randn(3,4))\n",
    "b = Tensor(np.random.randn(4,5))\n"
   ]
  }
 ],
 "metadata": {
  "kernelspec": {
   "display_name": "Python 3",
   "language": "python",
   "name": "python3"
  },
  "language_info": {
   "codemirror_mode": {
    "name": "ipython",
    "version": 3
   },
   "file_extension": ".py",
   "mimetype": "text/x-python",
   "name": "python",
   "nbconvert_exporter": "python",
   "pygments_lexer": "ipython3",
   "version": "3.10.12"
  },
  "orig_nbformat": 4
 },
 "nbformat": 4,
 "nbformat_minor": 2
}
