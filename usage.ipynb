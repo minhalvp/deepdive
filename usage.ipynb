{
 "cells": [
  {
   "cell_type": "code",
   "execution_count": null,
   "metadata": {},
   "outputs": [],
   "source": [
    "import numpy as np\n",
    "from tensor import Tensor\n",
    "from nn import Linear\n",
    "from tqdm import trange\n",
    "from datasets import load_dataset\n",
    "\n",
    "l1 = Linear(784, 128)\n",
    "l2 = Linear(128, 10)\n",
    "\n",
    "x = Tensor(np.random.uniform(-1., 1., size=(784)).astype(np.float32))\n",
    "x = l1(x)\n",
    "# print(x.data.shape)\n",
    "x = x.relu()\n",
    "# print(x.data.shape)\n",
    "x = l2(x)\n",
    "x = x.logsoftmax()\n",
    "x = x.mean()\n",
    "x.backward()"
   ]
  },
  {
   "cell_type": "code",
   "execution_count": null,
   "metadata": {},
   "outputs": [],
   "source": [
    "x = Tensor(np.random.uniform(-1., 1., size=(784)).astype(np.float32))\n",
    "l1w = Tensor(np.random.uniform(-1., 1.,size=(784, 128)).astype(np.float32))\n",
    "# bias should be 1d and 0 initialized\n",
    "l1b = Tensor(np.zeros((128), dtype=np.float32))\n",
    "\n",
    "x = x.dot(l1w.data.T)\n",
    "print(x.data.shape)\n",
    "x = x.add(l1b)\n",
    "print(x.data.shape)\n",
    "\n",
    "x = x.mean()\n",
    "x.backward()"
   ]
  },
  {
   "cell_type": "code",
   "execution_count": 8,
   "metadata": {},
   "outputs": [],
   "source": [
    "l1.params['b'].grad"
   ]
  },
  {
   "cell_type": "code",
   "execution_count": null,
   "metadata": {},
   "outputs": [],
   "source": [
    "l1.params['w']"
   ]
  },
  {
   "cell_type": "code",
   "execution_count": 4,
   "metadata": {},
   "outputs": [],
   "source": [
    "# make a tensor of size 128, 128 and fill it with zero\n",
    "a = Tensor(np.zeros((128, 128)))\n",
    "# make a tensor of size 128 and fill it with one\n",
    "b = Tensor(np.ones((128,128)))\n",
    "# add them together\n",
    "c = a.add(b)\n",
    "c = c.mean()\n",
    "c.backward()"
   ]
  },
  {
   "cell_type": "code",
   "execution_count": 5,
   "metadata": {},
   "outputs": [
    {
     "data": {
      "text/plain": [
       "array([[6.10351562e-05, 6.10351562e-05, 6.10351562e-05, ...,\n",
       "        6.10351562e-05, 6.10351562e-05, 6.10351562e-05],\n",
       "       [6.10351562e-05, 6.10351562e-05, 6.10351562e-05, ...,\n",
       "        6.10351562e-05, 6.10351562e-05, 6.10351562e-05],\n",
       "       [6.10351562e-05, 6.10351562e-05, 6.10351562e-05, ...,\n",
       "        6.10351562e-05, 6.10351562e-05, 6.10351562e-05],\n",
       "       ...,\n",
       "       [6.10351562e-05, 6.10351562e-05, 6.10351562e-05, ...,\n",
       "        6.10351562e-05, 6.10351562e-05, 6.10351562e-05],\n",
       "       [6.10351562e-05, 6.10351562e-05, 6.10351562e-05, ...,\n",
       "        6.10351562e-05, 6.10351562e-05, 6.10351562e-05],\n",
       "       [6.10351562e-05, 6.10351562e-05, 6.10351562e-05, ...,\n",
       "        6.10351562e-05, 6.10351562e-05, 6.10351562e-05]])"
      ]
     },
     "execution_count": 5,
     "metadata": {},
     "output_type": "execute_result"
    }
   ],
   "source": [
    "b.grad"
   ]
  },
  {
   "cell_type": "code",
   "execution_count": 1,
   "metadata": {},
   "outputs": [
    {
     "name": "stdout",
     "output_type": "stream",
     "text": [
      "Saved tensors: [array([1, 2, 3]), array([4, 5, 6])]\n",
      "ctx: <tensor.Add object at 0x000001AD3FD387F0>\n",
      "Tensor [5 7 9] with grad None\n",
      "Saved tensors: [array([5, 7, 9])]\n",
      "ctx: <tensor.Sum object at 0x000001AD3FD50940>\n",
      "Saved tensors: [array([21]), array([0.33333333])]\n",
      "ctx: <tensor.Mul object at 0x000001AD5F1062B0>\n"
     ]
    }
   ],
   "source": [
    "from tensor import Tensor\n",
    "import numpy as np\n",
    "\n",
    "a = Tensor(np.array([1,2,3]))\n",
    "b = Tensor(np.array([4,5,6]))\n",
    "c = a.add(b)\n",
    "print(c)\n",
    "c.mean().backward()"
   ]
  }
 ],
 "metadata": {
  "kernelspec": {
   "display_name": "Python 3",
   "language": "python",
   "name": "python3"
  },
  "language_info": {
   "codemirror_mode": {
    "name": "ipython",
    "version": 3
   },
   "file_extension": ".py",
   "mimetype": "text/x-python",
   "name": "python",
   "nbconvert_exporter": "python",
   "pygments_lexer": "ipython3",
   "version": "3.9.13"
  },
  "orig_nbformat": 4
 },
 "nbformat": 4,
 "nbformat_minor": 2
}
